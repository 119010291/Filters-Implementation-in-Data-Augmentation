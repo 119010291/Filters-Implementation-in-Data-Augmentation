{
 "cells": [
  {
   "cell_type": "code",
   "execution_count": 1,
   "metadata": {},
   "outputs": [
    {
     "name": "stdout",
     "output_type": "stream",
     "text": [
      "pygame 2.5.2 (SDL 2.28.3, Python 3.9.19)\n",
      "Hello from the pygame community. https://www.pygame.org/contribute.html\n"
     ]
    }
   ],
   "source": [
    "import numpy as np\n",
    "import librosa\n",
    "import os\n",
    "from scipy import signal\n",
    "from audiomentations import Compose, HighShelfFilter, LowShelfFilter, AddGaussianNoise\n",
    "from pedalboard import *\n",
    "import matplotlib.pyplot as plt\n",
    "import pygame\n",
    "from ipywidgets import Button, Output, HBox, VBox"
   ]
  },
  {
   "cell_type": "code",
   "execution_count": 3,
   "metadata": {},
   "outputs": [
    {
     "name": "stderr",
     "output_type": "stream",
     "text": [
      "2024-05-10 22:14:13.373534: I tensorflow/core/platform/cpu_feature_guard.cc:193] This TensorFlow binary is optimized with oneAPI Deep Neural Network Library (oneDNN) to use the following CPU instructions in performance-critical operations:  AVX2 FMA\n",
      "To enable them in other operations, rebuild TensorFlow with the appropriate compiler flags.\n",
      "2024-05-10 22:14:20.310802: I tensorflow/core/platform/cpu_feature_guard.cc:193] This TensorFlow binary is optimized with oneAPI Deep Neural Network Library (oneDNN) to use the following CPU instructions in performance-critical operations:  AVX2 FMA\n",
      "To enable them in other operations, rebuild TensorFlow with the appropriate compiler flags.\n"
     ]
    }
   ],
   "source": [
    "import tensorflow_hub as hub\n",
    "\n",
    "yamnet = hub.load('https://tfhub.dev/google/yamnet/1')"
   ]
  },
  {
   "cell_type": "code",
   "execution_count": 20,
   "metadata": {},
   "outputs": [],
   "source": [
    "def load_audio_file(file_path):\n",
    "    # Load the audio file and convert the sampling rate\n",
    "    wave, sr = librosa.load(file_path, sr=16000, mono=True)\n",
    "    return wave\n",
    "\n",
    "\n",
    "def extract_features(audio):\n",
    "    # YAMNet returns three outputs: scores, embeddings, spectrogram\n",
    "    scores, embeddings, spectrogram = yamnet(audio)\n",
    "    # Truncate or pad the embeddings as needed to fit the model input\n",
    "    max_time_steps = 60  # Assume maximum time steps\n",
    "    if embeddings.shape[0] < max_time_steps:\n",
    "        # Padding\n",
    "        embeddings = np.pad(embeddings, ((0, max_time_steps - embeddings.shape[0]), (0, 0)), 'constant')\n",
    "    elif embeddings.shape[0] > max_time_steps:\n",
    "        # Truncating\n",
    "        embeddings = embeddings[:max_time_steps]\n",
    "    return embeddings"
   ]
  },
  {
   "cell_type": "code",
   "execution_count": 8,
   "metadata": {},
   "outputs": [],
   "source": [
    "# augmentation\n",
    "\n",
    "def pitch_shift(audio, sample_rate=22050, pitch_shift_steps=2):\n",
    "    return librosa.effects.pitch_shift(audio, sr=sample_rate, n_steps=pitch_shift_steps)\n",
    "\n",
    "\n",
    "def add_bgn(audio, sample_rate=22050):\n",
    "    noise = Compose([AddGaussianNoise(min_amplitude=0.001, max_amplitude=0.015, p=0.5)])\n",
    "    return noise(audio, sample_rate)\n",
    "\n",
    "\n",
    "def reverb(audio):\n",
    "    board = Pedalboard([Chorus(), Reverb(room_size=0.25)])\n",
    "    return board(audio, 22050)\n",
    "\n",
    "\n",
    "# filters for augmentation\n",
    "def butterworth(audio):\n",
    "    b, a = signal.butter(4, 1/16, 'low', analog=False)\n",
    "    return signal.filtfilt(b, a, audio)\n",
    "\n",
    "\n",
    "def chev1(audio):\n",
    "    b, a = signal.cheby1(4, 5, 1/16, 'low', analog=False)\n",
    "    return signal.filtfilt(b, a, audio)\n",
    "\n",
    "\n",
    "def chev2(audio):\n",
    "    b, a = signal.cheby2(4, 50, 1/16, 'low', analog=False)\n",
    "    return signal.filtfilt(b, a, audio)\n",
    "\n",
    "\n",
    "def ellip(audio):\n",
    "    b, a = signal.ellip(4, 5, 50, 1/16, 'low', analog=False)\n",
    "    return signal.filtfilt(b, a, audio)\n",
    "\n",
    "\n",
    "def ellipH(audio):\n",
    "    b, a = signal.ellip(4, 5, 50, 1/16, 'high', analog=False)\n",
    "    return signal.filtfilt(b, a, audio)\n",
    "\n",
    "\n",
    "def ellipB(audio):\n",
    "    b, a = signal.ellip(4, 5, 50, [1/32, 1/16], 'band', analog=False)\n",
    "    return signal.filtfilt(b, a, audio)\n",
    "\n",
    "\n",
    "def peak(audio):\n",
    "    b, a = signal.iirpeak(200, 30, 16000)\n",
    "    return signal.filtfilt(b, a, audio)\n",
    "\n",
    "\n",
    "def highshelf(audio):\n",
    "    noise = Compose([HighShelfFilter(min_center_freq=100, max_center_freq=1000, p=0.5)])\n",
    "    return noise(audio, 16000)\n",
    "\n",
    "\n",
    "def lowshelf(audio):\n",
    "    noise = Compose([LowShelfFilter(min_center_freq=100, max_center_freq=1000, p=0.5)])\n",
    "    return noise(audio, 16000)"
   ]
  },
  {
   "cell_type": "code",
   "execution_count": 21,
   "metadata": {},
   "outputs": [],
   "source": [
    "import os\n",
    "import numpy as np\n",
    "\n",
    "def process_folder(folder_path):\n",
    "    all_embeddings = {}\n",
    "    for filename in os.listdir(folder_path):\n",
    "        if filename.endswith('.mp3'):  \n",
    "            file_path = os.path.join(folder_path, filename)\n",
    "            audio_original = load_audio_file(file_path)\n",
    "            # audio0 = pitch_shift(audio_original)\n",
    "            # audio1 = add_bgn(audio_original)\n",
    "            # audio2 = reverb(audio_original)\n",
    "            # audio3 = lowshelf(audio_original)\n",
    "\n",
    "            embeddings_ori = extract_features(audio_original)\n",
    "            # embeddings0 = extract_features(audio0)\n",
    "            # embeddings1 = extract_features(audio1)\n",
    "            # embeddings2 = extract_features(audio2)\n",
    "            # embeddings3 = extract_features(audio3)\n",
    "\n",
    "            all_embeddings[filename] = embeddings_ori \n",
    "            # all_embeddings[filename + '0aug'] = embeddings0\n",
    "            # all_embeddings[filename + '1aug'] = embeddings1\n",
    "            # all_embeddings[filename + '2aug'] = embeddings2\n",
    "            # all_embeddings[filename + '3aug'] = embeddings3\n",
    "\n",
    "    return all_embeddings\n",
    "\n",
    "\n",
    "folder_path = '/Users/apple/Documents/DST/Final_project/Filters-Implementation-in-Data-Augmentation/PMEmo2019/chorus'\n",
    "embeddings_dict = process_folder(folder_path)"
   ]
  },
  {
   "cell_type": "code",
   "execution_count": null,
   "metadata": {},
   "outputs": [],
   "source": [
    "# import IPython\n",
    "# IPython.display.Audio()"
   ]
  },
  {
   "cell_type": "code",
   "execution_count": 22,
   "metadata": {},
   "outputs": [],
   "source": [
    "# print all keys\n",
    "# print(list(embeddings_dict.keys()))"
   ]
  },
  {
   "cell_type": "code",
   "execution_count": 23,
   "metadata": {},
   "outputs": [],
   "source": [
    "# 创建一个新字典，其键是转换后的格式\n",
    "new_embeddings_dict = {}\n",
    "for key in embeddings_dict.keys():\n",
    "    if key[-3:] == 'aug':\n",
    "        if key[-4] == '0':\n",
    "            new_key = key[:-8] + \".1\"   # for augmentation data, add \".1\"\n",
    "        if key[-4] == '1':\n",
    "            new_key = key[:-8] + \".2\"\n",
    "        if key[-4] == '2':\n",
    "            new_key = key[:-8] + \".3\"\n",
    "        if key[-4] == '3':\n",
    "            new_key = key[:-8] + \".4\"    \n",
    "    else:\n",
    "        new_key = key[:-4] + \".0\"  # 移除 '.mp3' 并添加 '.0'\n",
    "\n",
    "    new_embeddings_dict[new_key] = embeddings_dict[key]\n"
   ]
  },
  {
   "cell_type": "code",
   "execution_count": 24,
   "metadata": {},
   "outputs": [
    {
     "name": "stdout",
     "output_type": "stream",
     "text": [
      "Total samples loaded: 767\n",
      "Training set size: 575, Validation set size: 192, Test set size: 154\n"
     ]
    }
   ],
   "source": [
    "import pandas as pd\n",
    "from sklearn.model_selection import train_test_split\n",
    "\n",
    "# 加载 Arousal & Valence 数据\n",
    "av_data = pd.read_csv('/Users/apple/Documents/DST/Final_project/Filters-Implementation-in-Data-Augmentation/PMEmo2019/annotations/static_annotations.csv')  # 确保路径正确\n",
    "\n",
    "# 初始化数据列表\n",
    "X = []\n",
    "y = []\n",
    "\n",
    "# 遍历数据行\n",
    "for index, row in av_data.iterrows():\n",
    "    music_id = str(row['musicId'])  # 根据需要将 musicId 转换为字符串，假设 embeddings_dict 的键是字符串形式的 musicId\n",
    "    if music_id in new_embeddings_dict:\n",
    "        X.append(new_embeddings_dict[music_id])\n",
    "        # X.append(new_embeddings_dict[music_id[:-1] + \"1\"])\n",
    "        # X.append(new_embeddings_dict[music_id[:-1] + \"2\"])\n",
    "        # X.append(new_embeddings_dict[music_id[:-1] + \"3\"])\n",
    "        # X.append(new_embeddings_dict[music_id[:-1] + \"4\"])\n",
    "        \n",
    "        y.append([row['Arousal(mean)'], row['Valence(mean)']])\n",
    "        # y.append([row['Arousal(mean)'], row['Valence(mean)']])\n",
    "        # y.append([row['Arousal(mean)'], row['Valence(mean)']])\n",
    "        # y.append([row['Arousal(mean)'], row['Valence(mean)']])\n",
    "        # y.append([row['Arousal(mean)'], row['Valence(mean)']])\n",
    "\n",
    "    else:\n",
    "        print(f\"Music ID {music_id} not found in embeddings_dict\")  # 输出未找到的音乐 ID\n",
    "\n",
    "# 将列表转换为 NumPy 数组\n",
    "X = np.array(X)\n",
    "y = np.array(y)\n",
    "\n",
    "print(f\"Total samples loaded: {len(X)}\")  # 输出加载的样本总数\n",
    "\n",
    "if len(X) > 0:\n",
    "    # 划分数据集\n",
    "    X_train, X_test, y_train, y_test = train_test_split(X, y, test_size=0.2, random_state=42)\n",
    "    X_train, X_val, y_train, y_val = train_test_split(X, y, test_size=0.25, random_state=42)\n",
    "    print(f\"Training set size: {len(X_train)}, Validation set size: {len(X_val)}, Test set size: {len(X_test)}\")\n",
    "else:\n",
    "    print(\"No data to split. Check your dataset and embeddings.\")\n"
   ]
  },
  {
   "cell_type": "code",
   "execution_count": 25,
   "metadata": {},
   "outputs": [],
   "source": [
    "from tensorflow.keras.models import Sequential\n",
    "from tcn import TCN, tcn_full_summary\n",
    "from tensorflow.keras.layers import Dense, BatchNormalization\n",
    "from tensorflow.keras.optimizers import Adam\n",
    "from tensorflow.keras.regularizers import l2\n",
    "\n",
    "def build_model(input_shape):\n",
    "    model = Sequential([\n",
    "        TCN(input_shape=input_shape, nb_filters=64, kernel_size=6, nb_stacks=1,\n",
    "            dilations=[1, 2, 4, 8, 16], padding='causal', use_skip_connections=True,\n",
    "            dropout_rate=0.2, return_sequences=False, activation='relu', kernel_initializer='he_normal'),\n",
    "        Dense(2, activation='linear', kernel_regularizer=l2(0.01))\n",
    "    ])\n",
    "    BatchNormalization(),\n",
    "    optimizer = Adam(learning_rate=0.005)\n",
    "    model.compile(optimizer=optimizer, loss='mean_squared_error', metrics=['mae'])\n",
    "    return model\n",
    "\n",
    "model = build_model(input_shape=(60, 1024))  \n",
    "\n"
   ]
  },
  {
   "cell_type": "code",
   "execution_count": 26,
   "metadata": {},
   "outputs": [
    {
     "name": "stdout",
     "output_type": "stream",
     "text": [
      "Epoch 1/10\n"
     ]
    },
    {
     "name": "stdout",
     "output_type": "stream",
     "text": [
      "18/18 [==============================] - 3s 96ms/step - loss: 75.8920 - mae: 2.5928 - val_loss: 0.1858 - val_mae: 0.3206\n",
      "Epoch 2/10\n",
      "18/18 [==============================] - 1s 78ms/step - loss: 0.2102 - mae: 0.3321 - val_loss: 0.1820 - val_mae: 0.3429\n",
      "Epoch 3/10\n",
      "18/18 [==============================] - 2s 84ms/step - loss: 0.1301 - mae: 0.2498 - val_loss: 0.1714 - val_mae: 0.3381\n",
      "Epoch 4/10\n",
      "18/18 [==============================] - 2s 87ms/step - loss: 0.1161 - mae: 0.2373 - val_loss: 0.1441 - val_mae: 0.2951\n",
      "Epoch 5/10\n",
      "18/18 [==============================] - 1s 80ms/step - loss: 0.1113 - mae: 0.2309 - val_loss: 0.1484 - val_mae: 0.3044\n",
      "Epoch 6/10\n",
      "18/18 [==============================] - 1s 82ms/step - loss: 0.0988 - mae: 0.2092 - val_loss: 0.1641 - val_mae: 0.3261\n",
      "Epoch 7/10\n",
      "18/18 [==============================] - 1s 82ms/step - loss: 0.0956 - mae: 0.2058 - val_loss: 0.1548 - val_mae: 0.3128\n",
      "Epoch 8/10\n",
      "18/18 [==============================] - 1s 80ms/step - loss: 0.0915 - mae: 0.1999 - val_loss: 0.1592 - val_mae: 0.3215\n",
      "Epoch 9/10\n",
      "18/18 [==============================] - 1s 83ms/step - loss: 0.0929 - mae: 0.2038 - val_loss: 0.1500 - val_mae: 0.3072\n",
      "Epoch 10/10\n",
      "18/18 [==============================] - 2s 86ms/step - loss: 0.0882 - mae: 0.1963 - val_loss: 0.1385 - val_mae: 0.2887\n"
     ]
    }
   ],
   "source": [
    "history = model.fit(X_train, y_train, epochs=10, batch_size=32, validation_data=(X_test, y_test))\n"
   ]
  },
  {
   "cell_type": "code",
   "execution_count": 27,
   "metadata": {},
   "outputs": [],
   "source": [
    "import matplotlib.pyplot as plt\n",
    "\n",
    "def plot_loss(history):\n",
    "    \"\"\"\n",
    "    Plot the training and validation loss and mae.\n",
    "\n",
    "    Parameters\n",
    "    ----------\n",
    "    history : keras.callbacks.History\n",
    "        The history object returned by the `fit` method of a Keras model.\n",
    "\n",
    "    Returns\n",
    "    -------\n",
    "    None\n",
    "    \"\"\"\n",
    "    mae = history.history[\"mae\"]\n",
    "    val_mae = history.history[\"val_mae\"]\n",
    "    loss = history.history[\"loss\"]\n",
    "    val_loss = history.history[\"val_loss\"]\n",
    "    epochs = range(1, len(mae) + 1)\n",
    "    plt.plot(epochs, mae, \"bo\", label=\"Training mae\")\n",
    "    plt.plot(epochs, val_mae, \"b\", label=\"Validation mae\")\n",
    "    plt.title(\"Training and validation mae\")\n",
    "    plt.legend()\n",
    "    plt.figure()\n",
    "    plt.plot(epochs, loss, \"bo\", label=\"Training loss\")\n",
    "    plt.plot(epochs, val_loss, \"b\", label=\"Validation loss\")\n",
    "    plt.title(\"Training and validation loss\")\n",
    "    plt.legend()\n",
    "    plt.show()"
   ]
  },
  {
   "cell_type": "code",
   "execution_count": 28,
   "metadata": {},
   "outputs": [
    {
     "data": {
      "image/png": "[encoded data removed]",
      "text/plain": [
       "<Figure size 640x480 with 1 Axes>"
      ]
     },
     "metadata": {},
     "output_type": "display_data"
    },
    {
     "data": {
      "image/png": "[encoded data removed]",
      "text/plain": [
       "<Figure size 640x480 with 1 Axes>"
      ]
     },
     "metadata": {},
     "output_type": "display_data"
    }
   ],
   "source": [
    "plot_loss(history)"
   ]
  },
  {
   "cell_type": "code",
   "execution_count": 29,
   "metadata": {},
   "outputs": [
    {
     "name": "stdout",
     "output_type": "stream",
     "text": [
      "5/5 [==============================] - 0s 31ms/step - loss: 0.1385 - mae: 0.2887\n",
      "Test Loss: 0.1385274976491928, Test MAE: 0.2887333333492279\n"
     ]
    }
   ],
   "source": [
    "# 评估模型性能\n",
    "loss, mae = model.evaluate(X_test, y_test)\n",
    "print(f'Test Loss: {loss}, Test MAE: {mae}')"
   ]
  }
 ],
 "metadata": {
  "kernelspec": {
   "display_name": "dl4m-hw3",
   "language": "python",
   "name": "python3"
  },
  "language_info": {
   "codemirror_mode": {
    "name": "ipython",
    "version": 3
   },
   "file_extension": ".py",
   "mimetype": "text/x-python",
   "name": "python",
   "nbconvert_exporter": "python",
   "pygments_lexer": "ipython3",
   "version": "3.9.19"
  },
  "orig_nbformat": 4
 },
 "nbformat": 4,
 "nbformat_minor": 2
}
